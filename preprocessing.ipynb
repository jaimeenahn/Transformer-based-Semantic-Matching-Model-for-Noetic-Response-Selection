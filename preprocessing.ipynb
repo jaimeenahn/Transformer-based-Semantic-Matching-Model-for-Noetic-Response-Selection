{
 "cells": [
  {
   "cell_type": "code",
   "execution_count": 126,
   "metadata": {},
   "outputs": [],
   "source": [
    "import json\n",
    "\n",
    "with open('task-1.advising.train.json', 'rb') as f :\n",
    "    json_data = json.load(f)\n",
    "    \n",
    "with open('task-1.advising.dev.json', 'rb') as f :\n",
    "    dev_data = json.load(f)"
   ]
  },
  {
   "cell_type": "code",
   "execution_count": 120,
   "metadata": {},
   "outputs": [],
   "source": [
    "json_data = json_data[:10]\n",
    "dev_data = dev_data[:1]"
   ]
  },
  {
   "cell_type": "code",
   "execution_count": 127,
   "metadata": {},
   "outputs": [],
   "source": [
    "from transformers import BertTokenizer\n",
    "\n",
    "tokenizer = BertTokenizer.from_pretrained('bert-base-uncased')\n",
    "\n",
    "train_data = dict()\n",
    "train_data['input_ids'] = list()\n",
    "train_data['segment_ids'] = list()\n",
    "train_data['attention_masks'] = list()\n",
    "\n",
    "for data in json_data :\n",
    "    sentence_a = list()\n",
    "    instance_input = list()\n",
    "    instance_seg = list()\n",
    "    instance_attn = list()\n",
    "    for msg in data['messages-so-far'] :\n",
    "        sentence_a.append(msg['utterance'])\n",
    "    sentence_a = ' '.join(sentence_a)\n",
    "    for option in data['options-for-next']:\n",
    "        candidate = tokenizer.encode_plus(text=sentence_a, text_pair=option['utterance'], max_length = 120, pad_to_max_length = True)        \n",
    "        instance_input.append(candidate['input_ids'])\n",
    "        instance_seg.append(candidate['token_type_ids'])\n",
    "        instance_attn.append(candidate['attention_mask'])\n",
    "    train_data['input_ids'].append(instance_input)\n",
    "    train_data['segment_ids'].append(instance_seg)\n",
    "    train_data['attention_masks'].append(instance_attn)"
   ]
  },
  {
   "cell_type": "code",
   "execution_count": 128,
   "metadata": {},
   "outputs": [],
   "source": [
    "train_data['labels'] = list()\n",
    "for data in json_data :\n",
    "    label = [0 for i in range(100)]\n",
    "    if len(data['options-for-correct-answers']) < 1 :\n",
    "        train_data['labels'].append(label)\n",
    "        continue\n",
    "    for idx, option in enumerate(data['options-for-next']):\n",
    "        if data['options-for-correct-answers'][0]['utterance'] == option['utterance'] :\n",
    "            label[idx] += 1\n",
    "    train_data['labels'].append(label)"
   ]
  },
  {
   "cell_type": "code",
   "execution_count": 129,
   "metadata": {},
   "outputs": [],
   "source": [
    "val_data = dict()\n",
    "val_data['input_ids'] = list()\n",
    "val_data['segment_ids'] = list()\n",
    "val_data['attention_masks'] = list()\n",
    "\n",
    "for data in dev_data :\n",
    "    sentence_a = list()\n",
    "    instance_input = list()\n",
    "    instance_seg = list()\n",
    "    instance_attn = list()\n",
    "    for msg in data['messages-so-far'] :\n",
    "        sentence_a.append(msg['utterance'])\n",
    "    sentence_a = ' '.join(sentence_a)\n",
    "    for option in data['options-for-next']:\n",
    "        candidate = tokenizer.encode_plus(text=sentence_a, text_pair=option['utterance'], max_length = 120, pad_to_max_length = True)        \n",
    "        instance_input.append(candidate['input_ids'])\n",
    "        instance_seg.append(candidate['token_type_ids'])\n",
    "        instance_attn.append(candidate['attention_mask'])\n",
    "    val_data['input_ids'].append(instance_input)\n",
    "    val_data['segment_ids'].append(instance_seg)\n",
    "    val_data['attention_masks'].append(instance_attn)"
   ]
  },
  {
   "cell_type": "code",
   "execution_count": 130,
   "metadata": {},
   "outputs": [],
   "source": [
    "val_data['labels'] = list()\n",
    "for data in dev_data :\n",
    "    label = [0 for i in range(100)]\n",
    "    if len(data['options-for-correct-answers']) < 1 :\n",
    "        val_data['labels'].append(label)\n",
    "        continue\n",
    "    for idx, option in enumerate(data['options-for-next']):\n",
    "        if data['options-for-correct-answers'][0]['utterance'] == option['utterance'] :\n",
    "            label[idx] += 1\n",
    "    val_data['labels'].append(label)"
   ]
  },
  {
   "cell_type": "code",
   "execution_count": 131,
   "metadata": {},
   "outputs": [],
   "source": [
    "import pickle\n",
    "\n",
    "with open('preprocessed_advising_large.pkl', 'wb') as f :\n",
    "    pickle.dump((train_data, val_data), f)"
   ]
  },
  {
   "cell_type": "code",
   "execution_count": 117,
   "metadata": {},
   "outputs": [],
   "source": [
    "tokens = torch.tensor(train_data['input_ids'])\n",
    "segs = torch.tensor(train_data['segment_ids'])\n",
    "attn = torch.tensor(train_data['attention_masks'])\n",
    "labl = torch.tensor(train_data['labels'])"
   ]
  },
  {
   "cell_type": "code",
   "execution_count": 118,
   "metadata": {},
   "outputs": [
    {
     "name": "stdout",
     "output_type": "stream",
     "text": [
      "torch.Size([100, 100, 120]) torch.Size([100, 100, 120]) torch.Size([100, 100, 120]) torch.Size([100, 100])\n"
     ]
    }
   ],
   "source": [
    "print(tokens.shape, segs.shape, attn.shape, labl.shape)"
   ]
  },
  {
   "cell_type": "code",
   "execution_count": 139,
   "metadata": {},
   "outputs": [],
   "source": [
    "a = [(1,2), (2,4)]"
   ]
  },
  {
   "cell_type": "code",
   "execution_count": 140,
   "metadata": {},
   "outputs": [],
   "source": [
    "a.sort(key=lambda element:element[1], reverse = True)"
   ]
  },
  {
   "cell_type": "code",
   "execution_count": 141,
   "metadata": {},
   "outputs": [
    {
     "data": {
      "text/plain": [
       "[(2, 4), (1, 2)]"
      ]
     },
     "execution_count": 141,
     "metadata": {},
     "output_type": "execute_result"
    }
   ],
   "source": [
    "a"
   ]
  },
  {
   "cell_type": "code",
   "execution_count": 143,
   "metadata": {},
   "outputs": [],
   "source": [
    "from torch import nn\n",
    "m = nn.Softmax(dim=1)\n",
    "input = torch.randn(2, 3)\n",
    "output = m(input)"
   ]
  },
  {
   "cell_type": "code",
   "execution_count": 144,
   "metadata": {},
   "outputs": [
    {
     "data": {
      "text/plain": [
       "tensor([[ 2.2335, -0.6044,  1.4533],\n",
       "        [ 0.0133,  0.6811,  1.1492]])"
      ]
     },
     "execution_count": 144,
     "metadata": {},
     "output_type": "execute_result"
    }
   ],
   "source": [
    "input"
   ]
  },
  {
   "cell_type": "code",
   "execution_count": 145,
   "metadata": {},
   "outputs": [
    {
     "data": {
      "text/plain": [
       "tensor([[0.6593, 0.0386, 0.3021],\n",
       "        [0.1649, 0.3216, 0.5135]])"
      ]
     },
     "execution_count": 145,
     "metadata": {},
     "output_type": "execute_result"
    }
   ],
   "source": [
    "output"
   ]
  },
  {
   "cell_type": "code",
   "execution_count": 18,
   "metadata": {},
   "outputs": [],
   "source": [
    "import torch\n",
    "from torch import nn\n",
    "\n",
    "m = nn.Softmax(dim=0)\n",
    "input = torch.randn(3, 1)\n",
    "output = m(input)"
   ]
  },
  {
   "cell_type": "code",
   "execution_count": 19,
   "metadata": {},
   "outputs": [
    {
     "data": {
      "text/plain": [
       "torch.Size([3, 1])"
      ]
     },
     "execution_count": 19,
     "metadata": {},
     "output_type": "execute_result"
    }
   ],
   "source": [
    "input.shape"
   ]
  },
  {
   "cell_type": "code",
   "execution_count": 20,
   "metadata": {
    "scrolled": true
   },
   "outputs": [
    {
     "data": {
      "text/plain": [
       "tensor([[0.6708],\n",
       "        [0.2931],\n",
       "        [0.0360]])"
      ]
     },
     "execution_count": 20,
     "metadata": {},
     "output_type": "execute_result"
    }
   ],
   "source": [
    "output"
   ]
  },
  {
   "cell_type": "code",
   "execution_count": 22,
   "metadata": {},
   "outputs": [
    {
     "data": {
      "text/plain": [
       "torch.Size([3])"
      ]
     },
     "execution_count": 22,
     "metadata": {},
     "output_type": "execute_result"
    }
   ],
   "source": [
    "output.squeeze(1).shape"
   ]
  },
  {
   "cell_type": "code",
   "execution_count": null,
   "metadata": {},
   "outputs": [],
   "source": []
  }
 ],
 "metadata": {
  "kernelspec": {
   "display_name": "Python 3",
   "language": "python",
   "name": "python3"
  },
  "language_info": {
   "codemirror_mode": {
    "name": "ipython",
    "version": 3
   },
   "file_extension": ".py",
   "mimetype": "text/x-python",
   "name": "python",
   "nbconvert_exporter": "python",
   "pygments_lexer": "ipython3",
   "version": "3.7.6"
  }
 },
 "nbformat": 4,
 "nbformat_minor": 2
}
